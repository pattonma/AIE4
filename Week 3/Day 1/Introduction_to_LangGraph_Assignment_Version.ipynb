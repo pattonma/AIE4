{
 "cells": [
  {
   "cell_type": "markdown",
   "metadata": {
    "id": "gJXW_DgiSebM"
   },
   "source": [
    "# LangGraph and LangSmith - Agentic RAG Powered by LangChain\n",
    "\n",
    "In the following notebook we'll complete the following tasks:\n",
    "\n",
    "- 🤝 Breakout Room #1:\n",
    "  1. Install required libraries\n",
    "  2. Set Environment Variables\n",
    "  3. Creating our Tool Belt\n",
    "  4. Creating Our State\n",
    "  5. Creating and Compiling A Graph!\n",
    "\n",
    "  - 🤝 Breakout Room #2:\n",
    "  1. Evaluating the LangGraph Application with LangSmith\n",
    "  2. Adding Helpfulness Check and \"Loop\" Limits\n",
    "  3. LangGraph for the \"Patterns\" of GenAI"
   ]
  },
  {
   "cell_type": "markdown",
   "metadata": {
    "id": "djQ3nRAgoF67"
   },
   "source": [
    "# 🤝 Breakout Room #1"
   ]
  },
  {
   "cell_type": "markdown",
   "metadata": {
    "id": "e7pQDUhUnIo8"
   },
   "source": [
    "## Part 1: LangGraph - Building Cyclic Applications with LangChain\n",
    "\n",
    "LangGraph is a tool that leverages LangChain Expression Language to build coordinated multi-actor and stateful applications that includes cyclic behaviour.\n",
    "\n",
    "### Why Cycles?\n",
    "\n",
    "In essence, we can think of a cycle in our graph as a more robust and customizable loop. It allows us to keep our application agent-forward while still giving the powerful functionality of traditional loops.\n",
    "\n",
    "Due to the inclusion of cycles over loops, we can also compose rather complex flows through our graph in a much more readable and natural fashion. Effectively allowing us to recreate application flowcharts in code in an almost 1-to-1 fashion.\n",
    "\n",
    "### Why LangGraph?\n",
    "\n",
    "Beyond the agent-forward approach - we can easily compose and combine traditional \"DAG\" (directed acyclic graph) chains with powerful cyclic behaviour due to the tight integration with LCEL. This means it's a natural extension to LangChain's core offerings!"
   ]
  },
  {
   "cell_type": "markdown",
   "metadata": {
    "id": "3_fLDElOVoop"
   },
   "source": [
    "## Task 1:  Dependencies\n",
    "\n",
    "We'll first install all our required libraries."
   ]
  },
  {
   "cell_type": "code",
   "execution_count": 1,
   "metadata": {
    "id": "KaVwN269EttM"
   },
   "outputs": [],
   "source": [
    "!pip install -qU langchain langchain_openai langchain-community langgraph arxiv duckduckgo_search==5.3.1b1"
   ]
  },
  {
   "cell_type": "markdown",
   "metadata": {
    "id": "wujPjGJuoPwg"
   },
   "source": [
    "## Task 2: Environment Variables\n",
    "\n",
    "We'll want to set both our OpenAI API key and our LangSmith environment variables."
   ]
  },
  {
   "cell_type": "code",
   "execution_count": 2,
   "metadata": {
    "colab": {
     "base_uri": "https://localhost:8080/"
    },
    "id": "Jdh8CoVWHRvs",
    "outputId": "42b2ba5e-11ae-4f4d-e68e-77607bb794ad"
   },
   "outputs": [
    {
     "name": "stdout",
     "output_type": "stream",
     "text": [
      "OpenAI API Key:········\n"
     ]
    }
   ],
   "source": [
    "import os\n",
    "import getpass\n",
    "\n",
    "os.environ[\"OPENAI_API_KEY\"] = getpass.getpass(\"OpenAI API Key:\")"
   ]
  },
  {
   "cell_type": "code",
   "execution_count": 3,
   "metadata": {
    "colab": {
     "base_uri": "https://localhost:8080/"
    },
    "id": "Nv0glIDyHmRt",
    "outputId": "30aa2260-50f1-4abf-b305-eed0ee1b9008"
   },
   "outputs": [
    {
     "name": "stdout",
     "output_type": "stream",
     "text": [
      "LangSmith API Key: ········\n"
     ]
    }
   ],
   "source": [
    "from uuid import uuid4\n",
    "\n",
    "os.environ[\"LANGCHAIN_TRACING_V2\"] = \"true\"\n",
    "os.environ[\"LANGCHAIN_PROJECT\"] = f\"AIE4 - LangGraph - {uuid4().hex[0:8]}\"\n",
    "os.environ[\"LANGCHAIN_API_KEY\"] = getpass.getpass(\"LangSmith API Key: \")"
   ]
  },
  {
   "cell_type": "markdown",
   "metadata": {
    "id": "sBRyQmEAVzua"
   },
   "source": [
    "## Task 3: Creating our Tool Belt\n",
    "\n",
    "As is usually the case, we'll want to equip our agent with a toolbelt to help answer questions and add external knowledge.\n",
    "\n",
    "There's a tonne of tools in the [LangChain Community Repo](https://github.com/langchain-ai/langchain/tree/master/libs/community/langchain_community/tools) but we'll stick to a couple just so we can observe the cyclic nature of LangGraph in action!\n",
    "\n",
    "We'll leverage:\n",
    "\n",
    "- [Duck Duck Go Web Search](https://github.com/langchain-ai/langchain/tree/master/libs/community/langchain_community/tools/ddg_search)\n",
    "- [Arxiv](https://github.com/langchain-ai/langchain/tree/master/libs/community/langchain_community/tools/arxiv)"
   ]
  },
  {
   "cell_type": "markdown",
   "metadata": {
    "id": "2k6n_Dob2F46"
   },
   "source": [
    "####🏗️ Activity #1:\n",
    "\n",
    "Please add the tools to use into our toolbelt.\n",
    "\n",
    "> NOTE: Each tool in our toolbelt should be a method."
   ]
  },
  {
   "cell_type": "code",
   "execution_count": 4,
   "metadata": {
    "id": "lAxaSvlfIeOg"
   },
   "outputs": [],
   "source": [
    "from langchain_community.tools.ddg_search import DuckDuckGoSearchRun\n",
    "from langchain_community.tools.arxiv.tool import ArxivQueryRun\n",
    "\n",
    "tool_belt = [\n",
    "    DuckDuckGoSearchRun(),\n",
    "    ArxivQueryRun()\n",
    "]"
   ]
  },
  {
   "cell_type": "markdown",
   "metadata": {
    "id": "VI-C669ZYVI5"
   },
   "source": [
    "### Model\n",
    "\n",
    "Now we can set-up our model! We'll leverage the familiar OpenAI model suite for this example - but it's not *necessary* to use with LangGraph. LangGraph supports all models - though you might not find success with smaller models - as such, they recommend you stick with:\n",
    "\n",
    "- OpenAI's GPT-3.5 and GPT-4\n",
    "- Anthropic's Claude\n",
    "- Google's Gemini\n",
    "\n",
    "> NOTE: Because we're leveraging the OpenAI function calling API - we'll need to use OpenAI *for this specific example* (or any other service that exposes an OpenAI-style function calling API."
   ]
  },
  {
   "cell_type": "code",
   "execution_count": 7,
   "metadata": {
    "id": "QkNS8rNZJs4z"
   },
   "outputs": [],
   "source": [
    "from langchain_openai import ChatOpenAI\n",
    "\n",
    "model = ChatOpenAI(model=\"gpt-4o\", temperature=0)"
   ]
  },
  {
   "cell_type": "markdown",
   "metadata": {
    "id": "Ugkj3GzuZpQv"
   },
   "source": [
    "Now that we have our model set-up, let's \"put on the tool belt\", which is to say: We'll bind our LangChain formatted tools to the model in an OpenAI function calling format."
   ]
  },
  {
   "cell_type": "code",
   "execution_count": 8,
   "metadata": {
    "id": "4OdMqFafZ_0V"
   },
   "outputs": [],
   "source": [
    "model = model.bind_tools(tool_belt)"
   ]
  },
  {
   "cell_type": "markdown",
   "metadata": {
    "id": "ERzuGo6W18Lr"
   },
   "source": [
    "#### ❓ Question #1:\n",
    "\n",
    "How does the model determine which tool to use?\n",
    "\n",
    "A: The model knows what tools have been bound to it, and each tool has a description field that is accessible by the model, so it can use the prompt given to figure out which tool descrbies the task that it decides it needs to accomplish."
   ]
  },
  {
   "cell_type": "markdown",
   "metadata": {
    "id": "_296Ub96Z_H8"
   },
   "source": [
    "## Task 4: Putting the State in Stateful\n",
    "\n",
    "Earlier we used this phrasing:\n",
    "\n",
    "`coordinated multi-actor and stateful applications`\n",
    "\n",
    "So what does that \"stateful\" mean?\n",
    "\n",
    "To put it simply - we want to have some kind of object which we can pass around our application that holds information about what the current situation (state) is. Since our system will be constructed of many parts moving in a coordinated fashion - we want to be able to ensure we have some commonly understood idea of that state.\n",
    "\n",
    "LangGraph leverages a `StatefulGraph` which uses an `AgentState` object to pass information between the various nodes of the graph.\n",
    "\n",
    "There are more options than what we'll see below - but this `AgentState` object is one that is stored in a `TypedDict` with the key `messages` and the value is a `Sequence` of `BaseMessages` that will be appended to whenever the state changes.\n",
    "\n",
    "Let's think about a simple example to help understand exactly what this means (we'll simplify a great deal to try and clearly communicate what state is doing):\n",
    "\n",
    "1. We initialize our state object:\n",
    "  - `{\"messages\" : []}`\n",
    "2. Our user submits a query to our application.\n",
    "  - New State: `HumanMessage(#1)`\n",
    "  - `{\"messages\" : [HumanMessage(#1)}`\n",
    "3. We pass our state object to an Agent node which is able to read the current state. It will use the last `HumanMessage` as input. It gets some kind of output which it will add to the state.\n",
    "  - New State: `AgentMessage(#1, additional_kwargs {\"function_call\" : \"WebSearchTool\"})`\n",
    "  - `{\"messages\" : [HumanMessage(#1), AgentMessage(#1, ...)]}`\n",
    "4. We pass our state object to a \"conditional node\" (more on this later) which reads the last state to determine if we need to use a tool - which it can determine properly because of our provided object!"
   ]
  },
  {
   "cell_type": "code",
   "execution_count": 9,
   "metadata": {
    "id": "mxL9b_NZKUdL"
   },
   "outputs": [],
   "source": [
    "from typing import TypedDict, Annotated\n",
    "from langgraph.graph.message import add_messages\n",
    "import operator\n",
    "from langchain_core.messages import BaseMessage\n",
    "\n",
    "class AgentState(TypedDict):\n",
    "  messages: Annotated[list, add_messages]"
   ]
  },
  {
   "cell_type": "markdown",
   "metadata": {
    "id": "vWsMhfO9grLu"
   },
   "source": [
    "## Task 5: It's Graphing Time!\n",
    "\n",
    "Now that we have state, and we have tools, and we have an LLM - we can finally start making our graph!\n",
    "\n",
    "Let's take a second to refresh ourselves about what a graph is in this context.\n",
    "\n",
    "Graphs, also called networks in some circles, are a collection of connected objects.\n",
    "\n",
    "The objects in question are typically called nodes, or vertices, and the connections are called edges.\n",
    "\n",
    "Let's look at a simple graph.\n",
    "\n",
    "![image](https://i.imgur.com/2NFLnIc.png)\n",
    "\n",
    "Here, we're using the coloured circles to represent the nodes and the yellow lines to represent the edges. In this case, we're looking at a fully connected graph - where each node is connected by an edge to each other node.\n",
    "\n",
    "If we were to think about nodes in the context of LangGraph - we would think of a function, or an LCEL runnable.\n",
    "\n",
    "If we were to think about edges in the context of LangGraph - we might think of them as \"paths to take\" or \"where to pass our state object next\".\n",
    "\n",
    "Let's create some nodes and expand on our diagram.\n",
    "\n",
    "> NOTE: Due to the tight integration with LCEL - we can comfortably create our nodes in an async fashion!"
   ]
  },
  {
   "cell_type": "code",
   "execution_count": 10,
   "metadata": {
    "id": "91flJWtZLUrl"
   },
   "outputs": [],
   "source": [
    "from langgraph.prebuilt import ToolNode\n",
    "\n",
    "def call_model(state):\n",
    "  messages = state[\"messages\"]\n",
    "  response = model.invoke(messages)\n",
    "  return {\"messages\" : [response]}\n",
    "\n",
    "tool_node = ToolNode(tool_belt)"
   ]
  },
  {
   "cell_type": "markdown",
   "metadata": {
    "id": "2bwR7MgWj3Wg"
   },
   "source": [
    "Now we have two total nodes. We have:\n",
    "\n",
    "- `call_model` is a node that will...well...call the model\n",
    "- `tool_node` is a node which can call a tool\n",
    "\n",
    "Let's start adding nodes! We'll update our diagram along the way to keep track of what this looks like!\n"
   ]
  },
  {
   "cell_type": "code",
   "execution_count": 11,
   "metadata": {
    "id": "_vF4_lgtmQNo"
   },
   "outputs": [],
   "source": [
    "from langgraph.graph import StateGraph, END\n",
    "\n",
    "uncompiled_graph = StateGraph(AgentState)\n",
    "\n",
    "uncompiled_graph.add_node(\"agent\", call_model)\n",
    "uncompiled_graph.add_node(\"action\", tool_node)"
   ]
  },
  {
   "cell_type": "markdown",
   "metadata": {
    "id": "b8CjRlbVmRpW"
   },
   "source": [
    "Let's look at what we have so far:\n",
    "\n",
    "![image](https://i.imgur.com/md7inqG.png)"
   ]
  },
  {
   "cell_type": "markdown",
   "metadata": {
    "id": "uaXHpPeSnOWC"
   },
   "source": [
    "Next, we'll add our entrypoint. All our entrypoint does is indicate which node is called first."
   ]
  },
  {
   "cell_type": "code",
   "execution_count": 12,
   "metadata": {
    "id": "YGCbaYqRnmiw"
   },
   "outputs": [],
   "source": [
    "uncompiled_graph.set_entry_point(\"agent\")"
   ]
  },
  {
   "cell_type": "markdown",
   "metadata": {
    "id": "BUsfGoSpoF9U"
   },
   "source": [
    "![image](https://i.imgur.com/wNixpJe.png)"
   ]
  },
  {
   "cell_type": "markdown",
   "metadata": {
    "id": "0Q_pQgHmoW0M"
   },
   "source": [
    "Now we want to build a \"conditional edge\" which will use the output state of a node to determine which path to follow.\n",
    "\n",
    "We can help conceptualize this by thinking of our conditional edge as a conditional in a flowchart!\n",
    "\n",
    "Notice how our function simply checks if there is a \"function_call\" kwarg present.\n",
    "\n",
    "Then we create an edge where the origin node is our agent node and our destination node is *either* the action node or the END (finish the graph).\n",
    "\n",
    "It's important to highlight that the dictionary passed in as the third parameter (the mapping) should be created with the possible outputs of our conditional function in mind. In this case `should_continue` outputs either `\"end\"` or `\"continue\"` which are subsequently mapped to the action node or the END node."
   ]
  },
  {
   "cell_type": "code",
   "execution_count": 13,
   "metadata": {
    "id": "1BZgb81VQf9o"
   },
   "outputs": [],
   "source": [
    "def should_continue(state):\n",
    "  last_message = state[\"messages\"][-1]\n",
    "\n",
    "  if last_message.tool_calls:\n",
    "    return \"action\"\n",
    "\n",
    "  return END\n",
    "\n",
    "uncompiled_graph.add_conditional_edges(\n",
    "    \"agent\",\n",
    "    should_continue\n",
    ")"
   ]
  },
  {
   "cell_type": "markdown",
   "metadata": {
    "id": "-Cvhcf4jp0Ce"
   },
   "source": [
    "Let's visualize what this looks like.\n",
    "\n",
    "![image](https://i.imgur.com/8ZNwKI5.png)"
   ]
  },
  {
   "cell_type": "markdown",
   "metadata": {
    "id": "yKCjWJCkrJb9"
   },
   "source": [
    "Finally, we can add our last edge which will connect our action node to our agent node. This is because we *always* want our action node (which is used to call our tools) to return its output to our agent!"
   ]
  },
  {
   "cell_type": "code",
   "execution_count": 14,
   "metadata": {
    "id": "UvcgbHf1rIXZ"
   },
   "outputs": [],
   "source": [
    "uncompiled_graph.add_edge(\"action\", \"agent\")"
   ]
  },
  {
   "cell_type": "markdown",
   "metadata": {
    "id": "EiWDwBQtrw7Z"
   },
   "source": [
    "Let's look at the final visualization.\n",
    "\n",
    "![image](https://i.imgur.com/NWO7usO.png)"
   ]
  },
  {
   "cell_type": "markdown",
   "metadata": {
    "id": "KYqDpErlsCsu"
   },
   "source": [
    "All that's left to do now is to compile our workflow - and we're off!"
   ]
  },
  {
   "cell_type": "code",
   "execution_count": 15,
   "metadata": {
    "id": "zt9-KS8DpzNx"
   },
   "outputs": [],
   "source": [
    "compiled_graph = uncompiled_graph.compile()"
   ]
  },
  {
   "cell_type": "markdown",
   "metadata": {
    "id": "xhNWIwBL1W4Q"
   },
   "source": [
    "#### ❓ Question #2:\n",
    "\n",
    "Is there any specific limit to how many times we can cycle?\n",
    "\n",
    "If not, how could we impose a limit to the number of cycles?\n",
    "\n",
    "A: No, there's nothing inherently stopping an infinite loop between the nodes. But we can implement a cycle limit in a few different ways. For instance, we can keep an array of the node responses in the state, and in the should_continue node check if that array's length has hit some threshold we decide, and if so, force it to end. We could also exit the graph in that case with a special message, indicating that we hit our cycle limit and didn't necessarily end with a useful response."
   ]
  },
  {
   "cell_type": "markdown",
   "metadata": {
    "id": "VEYcTShCsPaa"
   },
   "source": [
    "## Using Our Graph\n",
    "\n",
    "Now that we've created and compiled our graph - we can call it *just as we'd call any other* `Runnable`!\n",
    "\n",
    "Let's try out a few examples to see how it fairs:"
   ]
  },
  {
   "cell_type": "code",
   "execution_count": 40,
   "metadata": {
    "colab": {
     "base_uri": "https://localhost:8080/"
    },
    "id": "Qn4n37PQRPII",
    "outputId": "a5d7ef7a-13f2-4066-df52-b0df89eae2ae"
   },
   "outputs": [
    {
     "name": "stdout",
     "output_type": "stream",
     "text": [
      "Receiving update from node: 'agent'\n",
      "[AIMessage(content='', additional_kwargs={'tool_calls': [{'id': 'call_8JUZlTu3c70bqM0rhJDWH972', 'function': {'arguments': '{\"query\":\"current captain of the Winnipeg Jets 2023\"}', 'name': 'duckduckgo_search'}, 'type': 'function'}], 'refusal': None}, response_metadata={'token_usage': {'completion_tokens': 25, 'prompt_tokens': 156, 'total_tokens': 181}, 'model_name': 'gpt-4o-2024-05-13', 'system_fingerprint': 'fp_157b3831f5', 'finish_reason': 'tool_calls', 'logprobs': None}, id='run-b4e46959-f8fd-4d7c-9afd-86d3500fe168-0', tool_calls=[{'name': 'duckduckgo_search', 'args': {'query': 'current captain of the Winnipeg Jets 2023'}, 'id': 'call_8JUZlTu3c70bqM0rhJDWH972', 'type': 'tool_call'}], usage_metadata={'input_tokens': 156, 'output_tokens': 25, 'total_tokens': 181})]\n",
      "\n",
      "\n",
      "\n",
      "Receiving update from node: 'action'\n",
      "[ToolMessage(content=\"The 22-year-old Jarvis had 33 goals and 67 points for the Canesd in 2023-24, which were both career-highs. He also tipped the scales with 34 assists, 13 power play goals, two shorthanded goals and ... Miami parted with a pair of its captains from 2023, allowing Christian Wilkins to leave in free agency, and cutting Xavien Howard in the offseason. Jevon Holland was the third defensive captain last year. The Dolphins have the oldest roster in the league, so there's no lack of leadership and experience on the team. Campbell is entering his ... Rutger McGroarty was traded to the Pittsburgh Penguins by the Winnipeg Jets on Thursday for Brayden Yager. Following the trade, the Penguins signed McGroarty to a three-year, entry-level contract ... The Carolina Hurricanes made headlines on Saturday by signing Seth Jarvis to an eight-year, $63.2-million contract. It was how Jarvis' contract was structured that raised eyebrows. The Winnipeg Jets and Pittsburgh Penguins swapped forward prospects Thursday, with the Jets getting Brayden Yager for the rights to Rutger McGroarty. ... in the 2023 NHL draft. McGroarty was the ...\", name='duckduckgo_search', tool_call_id='call_8JUZlTu3c70bqM0rhJDWH972')]\n",
      "\n",
      "\n",
      "\n",
      "Receiving update from node: 'agent'\n",
      "[AIMessage(content='As of now, the Winnipeg Jets do not have a designated captain. The team has been operating with alternate captains instead.', additional_kwargs={'refusal': None}, response_metadata={'token_usage': {'completion_tokens': 26, 'prompt_tokens': 443, 'total_tokens': 469}, 'model_name': 'gpt-4o-2024-05-13', 'system_fingerprint': 'fp_157b3831f5', 'finish_reason': 'stop', 'logprobs': None}, id='run-6be0ff67-2e58-45e6-8ee5-9b3d1480a6f2-0', usage_metadata={'input_tokens': 443, 'output_tokens': 26, 'total_tokens': 469})]\n",
      "\n",
      "\n",
      "\n"
     ]
    }
   ],
   "source": [
    "from langchain_core.messages import HumanMessage\n",
    "\n",
    "inputs = {\"messages\" : [HumanMessage(content=\"Who is the current captain of the Winnipeg Jets?\")]}\n",
    "\n",
    "async for chunk in compiled_graph.astream(inputs, stream_mode=\"updates\"):\n",
    "    for node, values in chunk.items():\n",
    "        print(f\"Receiving update from node: '{node}'\")\n",
    "        print(values[\"messages\"])\n",
    "        print(\"\\n\\n\")"
   ]
  },
  {
   "cell_type": "markdown",
   "metadata": {
    "id": "DBHnUtLSscRr"
   },
   "source": [
    "Let's look at what happened:\n",
    "\n",
    "1. Our state object was populated with our request\n",
    "2. The state object was passed into our entry point (agent node) and the agent node added an `AIMessage` to the state object and passed it along the conditional edge\n",
    "3. The conditional edge received the state object, found the \"tool_calls\" `additional_kwarg`, and sent the state object to the action node\n",
    "4. The action node added the response from the OpenAI function calling endpoint to the state object and passed it along the edge to the agent node\n",
    "5. The agent node added a response to the state object and passed it along the conditional edge\n",
    "6. The conditional edge received the state object, could not find the \"tool_calls\" `additional_kwarg` and passed the state object to END where we see it output in the cell above!\n",
    "\n",
    "Now let's look at an example that shows a multiple tool usage - all with the same flow!"
   ]
  },
  {
   "cell_type": "code",
   "execution_count": 41,
   "metadata": {
    "colab": {
     "base_uri": "https://localhost:8080/"
    },
    "id": "afv2BuEsV5JG",
    "outputId": "026a3aa3-1c3e-4016-b0a3-fe98b1d25399"
   },
   "outputs": [
    {
     "name": "stdout",
     "output_type": "stream",
     "text": [
      "Receiving update from node: 'agent'\n",
      "[AIMessage(content='', additional_kwargs={'tool_calls': [{'id': 'call_8rlHU2YKBq3ga2CE9G3y7iVd', 'function': {'arguments': '{\"query\": \"QLoRA\"}', 'name': 'arxiv'}, 'type': 'function'}, {'id': 'call_5O3JhulcB29bJSO29DZO5y5L', 'function': {'arguments': '{\"query\": \"latest tweet\"}', 'name': 'duckduckgo_search'}, 'type': 'function'}], 'refusal': None}, response_metadata={'token_usage': {'completion_tokens': 50, 'prompt_tokens': 173, 'total_tokens': 223}, 'model_name': 'gpt-4o-2024-05-13', 'system_fingerprint': 'fp_157b3831f5', 'finish_reason': 'tool_calls', 'logprobs': None}, id='run-fc286f13-68b1-4cb0-91ff-2a763e70d06a-0', tool_calls=[{'name': 'arxiv', 'args': {'query': 'QLoRA'}, 'id': 'call_8rlHU2YKBq3ga2CE9G3y7iVd', 'type': 'tool_call'}, {'name': 'duckduckgo_search', 'args': {'query': 'latest tweet'}, 'id': 'call_5O3JhulcB29bJSO29DZO5y5L', 'type': 'tool_call'}], usage_metadata={'input_tokens': 173, 'output_tokens': 50, 'total_tokens': 223})]\n",
      "\n",
      "\n",
      "\n",
      "Receiving update from node: 'action'\n",
      "Tool Used: arxiv\n",
      "[ToolMessage(content='Published: 2023-05-23\\nTitle: QLoRA: Efficient Finetuning of Quantized LLMs\\nAuthors: Tim Dettmers, Artidoro Pagnoni, Ari Holtzman, Luke Zettlemoyer\\nSummary: We present QLoRA, an efficient finetuning approach that reduces memory usage\\nenough to finetune a 65B parameter model on a single 48GB GPU while preserving\\nfull 16-bit finetuning task performance. QLoRA backpropagates gradients through\\na frozen, 4-bit quantized pretrained language model into Low Rank\\nAdapters~(LoRA). Our best model family, which we name Guanaco, outperforms all\\nprevious openly released models on the Vicuna benchmark, reaching 99.3% of the\\nperformance level of ChatGPT while only requiring 24 hours of finetuning on a\\nsingle GPU. QLoRA introduces a number of innovations to save memory without\\nsacrificing performance: (a) 4-bit NormalFloat (NF4), a new data type that is\\ninformation theoretically optimal for normally distributed weights (b) double\\nquantization to reduce the average memory footprint by quantizing the\\nquantization constants, and (c) paged optimziers to manage memory spikes. We\\nuse QLoRA to finetune more than 1,000 models, providing a detailed analysis of\\ninstruction following and chatbot performance across 8 instruction datasets,\\nmultiple model types (LLaMA, T5), and model scales that would be infeasible to\\nrun with regular finetuning (e.g. 33B and 65B parameter models). Our results\\nshow that QLoRA finetuning on a small high-quality dataset leads to\\nstate-of-the-art results, even when using smaller models than the previous\\nSoTA. We provide a detailed analysis of chatbot performance based on both human\\nand GPT-4 evaluations showing that GPT-4 evaluations are a cheap and reasonable\\nalternative to human evaluation. Furthermore, we find that current chatbot\\nbenchmarks are not trustworthy to accurately evaluate the performance levels of\\nchatbots. A lemon-picked analysis demonstrates where Guanaco fails compared to\\nChatGPT. We release all of our models and code, including CUDA kernels for\\n4-bit training.\\n\\nPublished: 2024-05-27\\nTitle: Accurate LoRA-Finetuning Quantization of LLMs via Information Retention\\nAuthors: Haotong Qin, Xudong Ma, Xingyu Zheng, Xiaoyang Li, Yang Zhang, Shouda Liu, Jie Luo, Xianglong Liu, Michele Magno\\nSummary: The LoRA-finetuning quantization of LLMs has been extensively studied to\\nobtain accurate yet compact LLMs for deployment on resource-constrained\\nhardware. However, existing methods cause the quantized LLM to severely degrade\\nand even fail to benefit from the finetuning of LoRA. This paper proposes a\\nnovel IR-QLoRA for pushing quantized LLMs with LoRA to be highly accurate\\nthrough information retention. The proposed IR-QLoRA mainly relies on two\\ntechnologies derived from the perspective of unified information: (1)\\nstatistics-based Information Calibration Quantization allows the quantized\\nparameters of LLM to retain original information accurately; (2)\\nfinetuning-based Information Elastic Connection makes LoRA utilizes elastic\\nrepresentation transformation with diverse information. Comprehensive\\nexperiments show that IR-QLoRA can significantly improve accuracy across LLaMA\\nand LLaMA2 families under 2-4 bit-widths, e.g., 4- bit LLaMA-7B achieves 1.4%\\nimprovement on MMLU compared with the state-of-the-art methods. The significant\\nperformance gain requires only a tiny 0.31% additional time consumption,\\nrevealing the satisfactory efficiency of our IR-QLoRA. We highlight that\\nIR-QLoRA enjoys excellent versatility, compatible with various frameworks\\n(e.g., NormalFloat and Integer quantization) and brings general accuracy gains.\\nThe code is available at https://github.com/htqin/ir-qlora.\\n\\nPublished: 2024-06-12\\nTitle: Exploring Fact Memorization and Style Imitation in LLMs Using QLoRA: An Experimental Study and Quality Assessment Methods\\nAuthors: Eugene Vyborov, Oleksiy Osypenko, Serge Sotnyk\\nSummary: There are various methods for adapting LLMs to different domains. The most\\ncommon methods are prompting, finetuning, and RAG. In this w', name='arxiv', tool_call_id='call_8rlHU2YKBq3ga2CE9G3y7iVd'), ToolMessage(content=\"The order is the latest in an ongoing clash with Musk over free speech, accounts associated with the far-right and misinformation on the platform. Elon Musk in Washington on March 9, 2020. Susan ... All the latest breaking news on Twitter. Browse Newsweek archives of photos, videos and articles on Twitter. In more serious matters, EU Commissioner Thierry Breton visited Twitter's headquarters to conduct a stress test for the new Digital Services Act regulating everything from social media content ... The social media site X, formerly Twitter, turned over 32 direct messages from former President Donald Trump's account to special counsel Jack Smith's office. Special Counsel Obtained 32 Private Messages From Trump's Twitter Account Newly unsealed court papers shed additional light on a legal fight whose existence was revealed last month.\", name='duckduckgo_search', tool_call_id='call_5O3JhulcB29bJSO29DZO5y5L')]\n",
      "\n",
      "\n",
      "\n",
      "Receiving update from node: 'agent'\n",
      "[AIMessage(content='', additional_kwargs={'tool_calls': [{'id': 'call_YWEKQlYxArEn0rImRfSiIGak', 'function': {'arguments': '{\"query\": \"Tim Dettmers latest tweet\"}', 'name': 'duckduckgo_search'}, 'type': 'function'}, {'id': 'call_dW8LGaK2iFimP1Qd9yCyIDy5', 'function': {'arguments': '{\"query\": \"Artidoro Pagnoni latest tweet\"}', 'name': 'duckduckgo_search'}, 'type': 'function'}, {'id': 'call_1ADdIqFZQs9db6IgmnEykXHw', 'function': {'arguments': '{\"query\": \"Ari Holtzman latest tweet\"}', 'name': 'duckduckgo_search'}, 'type': 'function'}, {'id': 'call_R9sv9wDHxaQeKQaHQozguhBx', 'function': {'arguments': '{\"query\": \"Luke Zettlemoyer latest tweet\"}', 'name': 'duckduckgo_search'}, 'type': 'function'}], 'refusal': None}, response_metadata={'token_usage': {'completion_tokens': 108, 'prompt_tokens': 1355, 'total_tokens': 1463}, 'model_name': 'gpt-4o-2024-05-13', 'system_fingerprint': 'fp_157b3831f5', 'finish_reason': 'tool_calls', 'logprobs': None}, id='run-080375f7-5629-4e73-ae3c-2652bf176fe4-0', tool_calls=[{'name': 'duckduckgo_search', 'args': {'query': 'Tim Dettmers latest tweet'}, 'id': 'call_YWEKQlYxArEn0rImRfSiIGak', 'type': 'tool_call'}, {'name': 'duckduckgo_search', 'args': {'query': 'Artidoro Pagnoni latest tweet'}, 'id': 'call_dW8LGaK2iFimP1Qd9yCyIDy5', 'type': 'tool_call'}, {'name': 'duckduckgo_search', 'args': {'query': 'Ari Holtzman latest tweet'}, 'id': 'call_1ADdIqFZQs9db6IgmnEykXHw', 'type': 'tool_call'}, {'name': 'duckduckgo_search', 'args': {'query': 'Luke Zettlemoyer latest tweet'}, 'id': 'call_R9sv9wDHxaQeKQaHQozguhBx', 'type': 'tool_call'}], usage_metadata={'input_tokens': 1355, 'output_tokens': 108, 'total_tokens': 1463})]\n",
      "\n",
      "\n",
      "\n",
      "Receiving update from node: 'action'\n",
      "Tool Used: duckduckgo_search\n",
      "[ToolMessage(content='Allen School Ph.D. student Tim Dettmers accepted the grand prize for QLoRA, a novel approach to finetuning pretrained models that significantly reduces the amount of GPU memory required — from over 780GB to less than 48GB — to finetune a 65B parameter model. Leading AI researcher Tim Dettmers estimates each ChatGPT query needs ~460,000 MacBook Pro-days worth of computing to generate responses. That\\'s $100,000+ of laptop hardware per chat! Dettmers calculates ChatGPT likely uses $100,000 of cloud computing resources every hour across its globally distributed infrastructure. But Hixson\\'s ruling said Meta researcher Tim Dettmers, who was talking with other researchers from the nonprofit group EleutherAI on the instant messaging platform Discord, didn\\'t have the authority to waive attorney-client privilege. In September 2024, TimTheTatman surprised fans by announcing his return to Twitch via a tweet, simply stating, \"I\\'m back btw,\" accompanied by a link to his Twitch stream. This return is especially significant because Tim has embraced a new strategy: multi-streaming. — Tim Dettmers is joining Ai2 as an AI researcher. Dettmers specializes in efficient deep learning at the intersection of machine learning, NLP, and computer systems with a focus on quantization ...', name='duckduckgo_search', tool_call_id='call_YWEKQlYxArEn0rImRfSiIGak'), ToolMessage(content=\"We present QLoRA, an efficient finetuning approach that reduces memory usage enough to finetune a 65B parameter model on a single 48GB GPU while preserving full 16-bit finetuning task performance. QLoRA backpropagates gradients through a frozen, 4-bit quantized pretrained language model into Low Rank Adapters~(LoRA). Our best model family, which we name Guanaco, outperforms all previous openly ... Artidoro Pagnoni. artidoro. Follow. mrm8488's profile picture Weyaxi's profile picture nezubn's profile picture. ... artidoro/model-tvergho. Updated Nov 18, 2023. artidoro/model-vinaic. Updated Nov 18, 2023. artidoro/model-vinaia. Updated Nov 18, 2023. datasets. None public yet. Company Pagnoni et al. (2021) Artidoro Pagnoni, Vidhisha Balachandran, and Yulia Tsvetkov. 2021. Understanding factuality in abstractive summarization with FRANK: A benchmark for factuality metrics . In Proceedings of the 2021 Conference of the North American Chapter of the Association for Computational Linguistics: Human Language Technologies , pages ... efficient finetuning of quantized LLMs. AUTHORs: Tim Dettmers, Artidoro Pagnoni, Ari Holtzman, Luke Zettlemoyer Authors Info & Claims. NIPS '23: Proceedings of the 37th International Conference on Neural Information Processing Systems. Article No.: 441, Pages 10088 - 10115. Published: 30 May 2024 Publication History. Fine-tuning large language models (LLMs) is a common practice to adapt them for specific tasks, but it can be computationally expensive. LoRA (Low-Rank Adaptation) is a technique that makes this process more efficient by introducing small adapter modules to the model. These adapters capture task-specific knowledge without modifying the original ...\", name='duckduckgo_search', tool_call_id='call_dW8LGaK2iFimP1Qd9yCyIDy5'), ToolMessage(content='The heated on-air dispute last night between MSNBC\\'s Ari Melber and Donald Trump campaign adviser Corey Lewandowski didn\\'t end with Wednesday\\'s segment: Today, Lewandowski tweeted a video in ... MSNBC host Ari Melber, during an interview with Trump campaign adviser Corey Lewandowski on Wednesday, threatened him with a defamation lawsuit for quoting the anchor calling the former President ... Holtzman et al. (2018) Ari Holtzman, Jan Buys, Maxwell Forbes, Antoine Bosselut, David Golub, and Yejin Choi. Learning to write with cooperative discriminators. In Proceedings of the Association for Computational Linguistics, 2018. Koehn & Knowles (2017) Philipp Koehn and Rebecca Knowles. Six challenges for neural machine translation. Figure 1: In this paper, we explore Grover, a model which can detect and generate neural fake news. Humans find the articles difficult to distinguish from \"real news\" without high levels of scrutiny. Online fake news - news designed to intentionally deceive - has recently emerged as a major societal problem. Jack Hessel † Ari Holtzman ... When uploading an image alongside a tweet, users of Twitter have the option of providing alternative text: while few use this feature (gleason2019s find that fewer than .1% of image tweets have alt-text), its broader adoption might someday make social media more accessible for low vision and blind users. We ...', name='duckduckgo_search', tool_call_id='call_1ADdIqFZQs9db6IgmnEykXHw'), ToolMessage(content=\"Luke Zettlemoyer is a research manager and site lead for FAIR Seattle. He is also a Professor in the Allen School of Computer Science & Engineering at the University of Washington. His research is in empirical computational semantics, where the goal is to build models that recover representations of the meaning of natural language text. Today we're joined by Luke Zettlemoyer, professor at University of Washington and a research manager at Meta. In our conversation with Luke, we cover multimodal generative AI, the effect of data on models, and the significance of open source and open science. We explore the grounding problem, the need for visual grounding and embodiment in \\ufeff Twitter \\ufeff Reddit. Join our list for notifications and early access to events ... About this Episode. Today we're joined by Luke Zettlemoyer, professor at University of Washington and a research manager at Meta. In our conversation with Luke, we cover multimodal generative AI, the effect of data on models, and the significance of open ... Evaluating the factuality of long-form text generated by large language models (LMs) is nontrivial because (1) generations often contain a mixture of... Large language models are trained in two stages: (1) unsupervised pretraining from raw text, to learn general-purpose representations, and (2) large scale instruction tuning and reinforcement learning, to better align to end tasks and user preferences. We measure the relative importance of these two stages by training LIMA, a 65B parameter LLaMa language model fine-tuned with the standard ...\", name='duckduckgo_search', tool_call_id='call_R9sv9wDHxaQeKQaHQozguhBx')]\n",
      "\n",
      "\n",
      "\n"
     ]
    },
    {
     "name": "stdout",
     "output_type": "stream",
     "text": [
      "Receiving update from node: 'agent'\n",
      "[AIMessage(content='Here are the latest tweets or relevant information about the authors of the QLoRA paper:\\n\\n1. **Tim Dettmers**:\\n   - Tim Dettmers is joining Ai2 as an AI researcher. He specializes in efficient deep learning at the intersection of machine learning, NLP, and computer systems with a focus on quantization. \\n   - No specific latest tweet found, but he has been active in discussing his research and contributions to the field.\\n\\n2. **Artidoro Pagnoni**:\\n   - Artidoro Pagnoni has been involved in various research projects and publications, including efficient finetuning of quantized LLMs.\\n   - No specific latest tweet found, but his work continues to be influential in the field of NLP and machine learning.\\n\\n3. **Ari Holtzman**:\\n   - Ari Holtzman has been involved in research on neural fake news detection and generation, as well as other NLP topics.\\n   - No specific latest tweet found, but he remains active in the research community.\\n\\n4. **Luke Zettlemoyer**:\\n   - Luke Zettlemoyer is a research manager and site lead for FAIR Seattle, and a Professor at the University of Washington. He focuses on empirical computational semantics and multimodal generative AI.\\n   - No specific latest tweet found, but he continues to contribute significantly to the field of AI and NLP.\\n\\nFor more detailed and up-to-date information, you may want to check their official Twitter profiles or other social media platforms where they might be active.', additional_kwargs={'refusal': None}, response_metadata={'token_usage': {'completion_tokens': 311, 'prompt_tokens': 2788, 'total_tokens': 3099}, 'model_name': 'gpt-4o-2024-05-13', 'system_fingerprint': 'fp_157b3831f5', 'finish_reason': 'stop', 'logprobs': None}, id='run-9e2669c0-f61f-41ea-b542-3dc0b92fd7ae-0', usage_metadata={'input_tokens': 2788, 'output_tokens': 311, 'total_tokens': 3099})]\n",
      "\n",
      "\n",
      "\n"
     ]
    }
   ],
   "source": [
    "inputs = {\"messages\" : [HumanMessage(content=\"Search Arxiv for the QLoRA paper, then search each of the authors to find out their latest Tweet using DuckDuckGo.\")]}\n",
    "\n",
    "async for chunk in compiled_graph.astream(inputs, stream_mode=\"updates\"):\n",
    "    for node, values in chunk.items():\n",
    "        print(f\"Receiving update from node: '{node}'\")\n",
    "        if node == \"action\":\n",
    "          print(f\"Tool Used: {values['messages'][0].name}\")\n",
    "        print(values[\"messages\"])\n",
    "\n",
    "        print(\"\\n\\n\")"
   ]
  },
  {
   "cell_type": "markdown",
   "metadata": {
    "id": "CXzDlZVz1Hnf"
   },
   "source": [
    "####🏗️ Activity #2:\n",
    "\n",
    "Please write out the steps the agent took to arrive at the correct answer."
   ]
  },
  {
   "cell_type": "markdown",
   "metadata": {},
   "source": [
    "1) The agent received the initial query about searching Arxiv for the QLoRA paper and finding the authors' latest tweets.\n",
    "\n",
    "2) The agent node processed the query and determined it needed to use multiple tools. It prepared five tool calls:\n",
    "    - One Arxiv search for \"QLoRA\"\n",
    "    - Four DuckDuckGo searches for the latest tweets of Tim Dettmers, Mike Lewis, Yunqing Dou, and Armen Aghajanyan\n",
    "\n",
    "3) The action node executed these tool calls:\n",
    "    - It used the Arxiv search tool to find information about the QLoRA paper.\n",
    "    - It used the DuckDuckGo search tool four times to search for each author's latest tweet or related information.\n",
    "\n",
    "4) The agent node received the results from all five tool calls and processed the information:\n",
    "    - It summarized the QLoRA paper from the Arxiv search, including its title, authors, and key points.\n",
    "    - It extracted relevant information about each author's latest activities or tweets from the DuckDuckGo search results.\n",
    "\n",
    "5) The agent node compiled all this information into a comprehensive response, structuring it with sections for the QLoRA paper and each author's latest tweet or activity.\n",
    "\n",
    "6) The conditional edge determined that no further tool calls were needed, and the graph execution ended.\n",
    "\n",
    "7) The final response was returned, containing:\n",
    "    - A summary of the QLoRA paper from Arxiv\n",
    "    - The latest available information or tweets for each of the paper's authors"
   ]
  },
  {
   "cell_type": "markdown",
   "metadata": {
    "id": "v7c8-Uyarh1v"
   },
   "source": [
    "## Part 1: LangSmith Evaluator"
   ]
  },
  {
   "cell_type": "markdown",
   "metadata": {
    "id": "pV3XeFOT1Sar"
   },
   "source": [
    "### Pre-processing for LangSmith"
   ]
  },
  {
   "cell_type": "markdown",
   "metadata": {
    "id": "wruQCuzewUuO"
   },
   "source": [
    "To do a little bit more preprocessing, let's wrap our LangGraph agent in a simple chain."
   ]
  },
  {
   "cell_type": "code",
   "execution_count": 18,
   "metadata": {
    "id": "oeXdQgbxwhTv"
   },
   "outputs": [],
   "source": [
    "def convert_inputs(input_object):\n",
    "  return {\"messages\" : [HumanMessage(content=input_object[\"question\"])]}\n",
    "\n",
    "def parse_output(input_state):\n",
    "  return input_state[\"messages\"][-1].content\n",
    "\n",
    "agent_chain = convert_inputs | compiled_graph | parse_output"
   ]
  },
  {
   "cell_type": "code",
   "execution_count": 42,
   "metadata": {
    "colab": {
     "base_uri": "https://localhost:8080/",
     "height": 139
    },
    "id": "orYxBZXSxJjZ",
    "outputId": "b160f3e4-89d1-4411-ed96-fe17b3cad200"
   },
   "outputs": [
    {
     "data": {
      "text/plain": [
       "'RAG stands for Retrieval-Augmented Generation. It is a technique used in natural language processing (NLP) and machine learning to improve the performance of language models by combining retrieval-based methods with generative models. Here’s a brief overview of how it works:\\n\\n1. **Retrieval**: In the first step, the system retrieves relevant documents or pieces of information from a large corpus or database. This is typically done using a retrieval model, such as BM25 or a dense retrieval model like DPR (Dense Passage Retrieval).\\n\\n2. **Augmentation**: The retrieved documents are then used to augment the input to the generative model. This means that the generative model has access to additional context or information that can help it produce more accurate and relevant responses.\\n\\n3. **Generation**: Finally, the generative model, such as GPT-3 or BERT, uses the augmented input to generate a response. The additional context provided by the retrieved documents helps the model generate more informed and contextually appropriate responses.\\n\\nRAG is particularly useful in scenarios where the generative model alone might not have enough information to produce a high-quality response, such as in open-domain question answering, customer support, and other applications requiring access to a large knowledge base.'"
      ]
     },
     "execution_count": 42,
     "metadata": {},
     "output_type": "execute_result"
    }
   ],
   "source": [
    "agent_chain.invoke({\"question\" : \"What is RAG?\"})"
   ]
  },
  {
   "cell_type": "markdown",
   "metadata": {
    "id": "f9UkCIqkpyZu"
   },
   "source": [
    "### Task 1: Creating An Evaluation Dataset\n",
    "\n",
    "Just as we saw last week, we'll want to create a dataset to test our Agent's ability to answer questions.\n",
    "\n",
    "In order to do this - we'll want to provide some questions and some answers. Let's look at how we can create such a dataset below.\n",
    "\n",
    "```python\n",
    "questions = [\n",
    "    \"What optimizer is used in QLoRA?\",\n",
    "    \"What data type was created in the QLoRA paper?\",\n",
    "    \"What is a Retrieval Augmented Generation system?\",\n",
    "    \"Who authored the QLoRA paper?\",\n",
    "    \"What is the most popular deep learning framework?\",\n",
    "    \"What significant improvements does the LoRA system make?\"\n",
    "]\n",
    "\n",
    "answers = [\n",
    "    {\"must_mention\" : [\"paged\", \"optimizer\"]},\n",
    "    {\"must_mention\" : [\"NF4\", \"NormalFloat\"]},\n",
    "    {\"must_mention\" : [\"ground\", \"context\"]},\n",
    "    {\"must_mention\" : [\"Tim\", \"Dettmers\"]},\n",
    "    {\"must_mention\" : [\"PyTorch\", \"TensorFlow\"]},\n",
    "    {\"must_mention\" : [\"reduce\", \"parameters\"]},\n",
    "]\n",
    "```"
   ]
  },
  {
   "cell_type": "markdown",
   "metadata": {
    "id": "VfMXF2KAsQxs"
   },
   "source": [
    "####🏗️ Activity #3:\n",
    "\n",
    "Please create a dataset in the above format with at least 5 questions."
   ]
  },
  {
   "cell_type": "code",
   "execution_count": 43,
   "metadata": {
    "id": "CbagRuJop83E"
   },
   "outputs": [],
   "source": [
    "questions = [\n",
    "    \"What is the main innovation introduced by QLoRA?\",\n",
    "    \"How does QLoRA achieve memory efficiency?\",\n",
    "    \"What are the key components of the QLoRA system?\",\n",
    "    \"What performance improvements does QLoRA demonstrate?\",\n",
    "    \"How does QLoRA compare to full fine-tuning in terms of quality?\"\n",
    "]\n",
    "answers = [\n",
    "    {\"must_mention\": [\"4-bit\", \"quantization\", \"fine-tuning\", \"large language models\"]},\n",
    "    {\"must_mention\": [\"4-bit NormalFloat\", \"double quantization\", \"paged optimizers\"]},\n",
    "    {\"must_mention\": [\"4-bit quantization\", \"Low-Rank Adapters\", \"paged optimizers\"]},\n",
    "    {\"must_mention\": [\"65 billion parameters\", \"single GPU\", \"consumer hardware\"]},\n",
    "    {\"must_mention\": [\"comparable results\", \"full fine-tuning\", \"less memory\", \"faster\"]},\n",
    "]"
   ]
  },
  {
   "cell_type": "markdown",
   "metadata": {
    "id": "z7QVFuAmsh7L"
   },
   "source": [
    "Now we can add our dataset to our LangSmith project using the following code which we saw last Thursday!"
   ]
  },
  {
   "cell_type": "code",
   "execution_count": 44,
   "metadata": {
    "id": "RLfrZrgSsn85"
   },
   "outputs": [],
   "source": [
    "from langsmith import Client\n",
    "\n",
    "client = Client()\n",
    "dataset_name = f\"Retrieval Augmented Generation - Evaluation Dataset - {uuid4().hex[0:8]}\"\n",
    "\n",
    "dataset = client.create_dataset(\n",
    "    dataset_name=dataset_name,\n",
    "    description=\"Questions about the QLoRA Paper to Evaluate RAG over the same paper.\"\n",
    ")\n",
    "\n",
    "client.create_examples(\n",
    "    inputs=[{\"question\" : q} for q in questions],\n",
    "    outputs=answers,\n",
    "    dataset_id=dataset.id,\n",
    ")"
   ]
  },
  {
   "cell_type": "markdown",
   "metadata": {
    "id": "ciV73F9Q04w0"
   },
   "source": [
    "#### ❓ Question #3:\n",
    "\n",
    "How are the correct answers associated with the questions?\n",
    "\n",
    "A: The correct answers are associated with the questions through the `answers` list, which corresponds to the `questions` list. Each item in the `answers` list is a dictionary with a \"must_mention\" key, containing a list of phrases or keywords that should be present in a correct answer for the corresponding question.\n",
    "\n",
    "> NOTE: Feel free to indicate if this is problematic or not"
   ]
  },
  {
   "cell_type": "markdown",
   "metadata": {
    "id": "-lRTXUrTtP9Y"
   },
   "source": [
    "### Task 2: Adding Evaluators\n",
    "\n",
    "Now we can add a custom evaluator to see if our responses contain the expected information.\n",
    "\n",
    "We'll be using a fairly naive exact-match process to determine if our response contains specific strings."
   ]
  },
  {
   "cell_type": "code",
   "execution_count": 22,
   "metadata": {
    "id": "QrAUXMFftlAY"
   },
   "outputs": [],
   "source": [
    "from langsmith.evaluation import EvaluationResult, run_evaluator\n",
    "\n",
    "@run_evaluator\n",
    "def must_mention(run, example) -> EvaluationResult:\n",
    "    prediction = run.outputs.get(\"output\") or \"\"\n",
    "    required = example.outputs.get(\"must_mention\") or []\n",
    "    score = all(phrase in prediction for phrase in required)\n",
    "    return EvaluationResult(key=\"must_mention\", score=score)"
   ]
  },
  {
   "cell_type": "markdown",
   "metadata": {
    "id": "PNtHORUh0jZY"
   },
   "source": [
    "#### ❓ Question #4:\n",
    "\n",
    "What are some ways you could improve this metric as-is?\n",
    "\n",
    "A: Currently, the checks for must_mentions are case sensitive. We could make it better by implementing them as case insensitive. We could also implement some sort of a synonym dictionary, a weighted-score system to what must be mentioned, or partial matching. Any of these would help it perform a bit better.\n",
    "\n",
    "> NOTE: Alternatively you can suggest where gaps exist in this method."
   ]
  },
  {
   "cell_type": "markdown",
   "metadata": {
    "id": "mZ4DVSXl0BX5"
   },
   "source": [
    "Now that we have created our custom evaluator - let's initialize our `RunEvalConfig` with it!"
   ]
  },
  {
   "cell_type": "code",
   "execution_count": 23,
   "metadata": {
    "id": "sL4-XcjytWsu"
   },
   "outputs": [],
   "source": [
    "from langchain.smith import RunEvalConfig, run_on_dataset\n",
    "\n",
    "eval_config = RunEvalConfig(\n",
    "    custom_evaluators=[must_mention],\n",
    ")"
   ]
  },
  {
   "cell_type": "markdown",
   "metadata": {
    "id": "r1RJr349zhv7"
   },
   "source": [
    "Task 3: Evaluating\n",
    "\n",
    "All that is left to do is evaluate our agent's response!"
   ]
  },
  {
   "cell_type": "code",
   "execution_count": 45,
   "metadata": {
    "colab": {
     "base_uri": "https://localhost:8080/"
    },
    "id": "p5TeCUUkuGld",
    "outputId": "8b98fff1-bd75-4dbe-cadc-a76d8a82577c"
   },
   "outputs": [
    {
     "name": "stdout",
     "output_type": "stream",
     "text": [
      "View the evaluation results for project 'RAG Pipeline - Evaluation - 83c5288f' at:\n",
      "https://smith.langchain.com/o/b24c757e-622c-57ef-a8ea-3fa853b9bf4d/datasets/b0e09985-3b6b-44cb-ae5c-0ccef0e95831/compare?selectedSessions=db87cff4-af12-4512-b8ca-cf12634d909e\n",
      "\n",
      "View all tests for Dataset Retrieval Augmented Generation - Evaluation Dataset - d610da2f at:\n",
      "https://smith.langchain.com/o/b24c757e-622c-57ef-a8ea-3fa853b9bf4d/datasets/b0e09985-3b6b-44cb-ae5c-0ccef0e95831\n",
      "[------------------------------------------------->] 5/5"
     ]
    },
    {
     "data": {
      "text/html": [
       "<h3>Experiment Results:</h3>"
      ],
      "text/plain": [
       "<IPython.core.display.HTML object>"
      ]
     },
     "metadata": {},
     "output_type": "display_data"
    },
    {
     "data": {
      "text/html": [
       "<div>\n",
       "<style scoped>\n",
       "    .dataframe tbody tr th:only-of-type {\n",
       "        vertical-align: middle;\n",
       "    }\n",
       "\n",
       "    .dataframe tbody tr th {\n",
       "        vertical-align: top;\n",
       "    }\n",
       "\n",
       "    .dataframe thead th {\n",
       "        text-align: right;\n",
       "    }\n",
       "</style>\n",
       "<table border=\"1\" class=\"dataframe\">\n",
       "  <thead>\n",
       "    <tr style=\"text-align: right;\">\n",
       "      <th></th>\n",
       "      <th>feedback.must_mention</th>\n",
       "      <th>error</th>\n",
       "      <th>execution_time</th>\n",
       "      <th>run_id</th>\n",
       "    </tr>\n",
       "  </thead>\n",
       "  <tbody>\n",
       "    <tr>\n",
       "      <th>count</th>\n",
       "      <td>5</td>\n",
       "      <td>0</td>\n",
       "      <td>5.000000</td>\n",
       "      <td>5</td>\n",
       "    </tr>\n",
       "    <tr>\n",
       "      <th>unique</th>\n",
       "      <td>1</td>\n",
       "      <td>0</td>\n",
       "      <td>NaN</td>\n",
       "      <td>5</td>\n",
       "    </tr>\n",
       "    <tr>\n",
       "      <th>top</th>\n",
       "      <td>False</td>\n",
       "      <td>NaN</td>\n",
       "      <td>NaN</td>\n",
       "      <td>c76976a6-2f9c-4a6b-b8c1-4026a7bf1910</td>\n",
       "    </tr>\n",
       "    <tr>\n",
       "      <th>freq</th>\n",
       "      <td>5</td>\n",
       "      <td>NaN</td>\n",
       "      <td>NaN</td>\n",
       "      <td>1</td>\n",
       "    </tr>\n",
       "    <tr>\n",
       "      <th>mean</th>\n",
       "      <td>NaN</td>\n",
       "      <td>NaN</td>\n",
       "      <td>5.989070</td>\n",
       "      <td>NaN</td>\n",
       "    </tr>\n",
       "    <tr>\n",
       "      <th>std</th>\n",
       "      <td>NaN</td>\n",
       "      <td>NaN</td>\n",
       "      <td>1.908769</td>\n",
       "      <td>NaN</td>\n",
       "    </tr>\n",
       "    <tr>\n",
       "      <th>min</th>\n",
       "      <td>NaN</td>\n",
       "      <td>NaN</td>\n",
       "      <td>3.610445</td>\n",
       "      <td>NaN</td>\n",
       "    </tr>\n",
       "    <tr>\n",
       "      <th>25%</th>\n",
       "      <td>NaN</td>\n",
       "      <td>NaN</td>\n",
       "      <td>5.163157</td>\n",
       "      <td>NaN</td>\n",
       "    </tr>\n",
       "    <tr>\n",
       "      <th>50%</th>\n",
       "      <td>NaN</td>\n",
       "      <td>NaN</td>\n",
       "      <td>5.266426</td>\n",
       "      <td>NaN</td>\n",
       "    </tr>\n",
       "    <tr>\n",
       "      <th>75%</th>\n",
       "      <td>NaN</td>\n",
       "      <td>NaN</td>\n",
       "      <td>7.950079</td>\n",
       "      <td>NaN</td>\n",
       "    </tr>\n",
       "    <tr>\n",
       "      <th>max</th>\n",
       "      <td>NaN</td>\n",
       "      <td>NaN</td>\n",
       "      <td>7.955242</td>\n",
       "      <td>NaN</td>\n",
       "    </tr>\n",
       "  </tbody>\n",
       "</table>\n",
       "</div>"
      ],
      "text/plain": [
       "       feedback.must_mention error  execution_time  \\\n",
       "count                      5     0        5.000000   \n",
       "unique                     1     0             NaN   \n",
       "top                    False   NaN             NaN   \n",
       "freq                       5   NaN             NaN   \n",
       "mean                     NaN   NaN        5.989070   \n",
       "std                      NaN   NaN        1.908769   \n",
       "min                      NaN   NaN        3.610445   \n",
       "25%                      NaN   NaN        5.163157   \n",
       "50%                      NaN   NaN        5.266426   \n",
       "75%                      NaN   NaN        7.950079   \n",
       "max                      NaN   NaN        7.955242   \n",
       "\n",
       "                                      run_id  \n",
       "count                                      5  \n",
       "unique                                     5  \n",
       "top     c76976a6-2f9c-4a6b-b8c1-4026a7bf1910  \n",
       "freq                                       1  \n",
       "mean                                     NaN  \n",
       "std                                      NaN  \n",
       "min                                      NaN  \n",
       "25%                                      NaN  \n",
       "50%                                      NaN  \n",
       "75%                                      NaN  \n",
       "max                                      NaN  "
      ]
     },
     "metadata": {},
     "output_type": "display_data"
    },
    {
     "data": {
      "text/plain": [
       "{'project_name': 'RAG Pipeline - Evaluation - 83c5288f',\n",
       " 'results': {'d71f30a4-1fd3-4e30-bd31-493dce8ecd0b': {'input': {'question': 'How does QLoRA compare to full fine-tuning in terms of quality?'},\n",
       "   'feedback': [EvaluationResult(key='must_mention', score=False, value=None, comment=None, correction=None, evaluator_info={}, feedback_config=None, source_run_id=UUID('253b2e7f-b03f-4026-8baa-fd252db052f0'), target_run_id=None)],\n",
       "   'execution_time': 7.950079,\n",
       "   'run_id': 'c76976a6-2f9c-4a6b-b8c1-4026a7bf1910',\n",
       "   'output': \"### QLoRA vs Full Fine-Tuning: Quality Comparison\\n\\n#### QLoRA (Quantized Low Rank Adapter)\\n- **Efficiency**: QLoRA significantly reduces memory usage, enabling the fine-tuning of large models (up to 65B parameters) on a single 48GB GPU.\\n- **Performance**: Despite the memory efficiency, QLoRA maintains performance levels comparable to full 16-bit fine-tuning. For instance, the Guanaco model family, fine-tuned using QLoRA, achieves 99.3% of ChatGPT's performance on the Vicuna benchmark.\\n- **Innovations**:\\n  - **4-bit NormalFloat (NF4)**: An optimal data type for normally distributed weights.\\n  - **Double Quantization**: Reduces memory footprint by quantizing the quantization constants.\\n  - **Paged Optimizers**: Manages memory spikes effectively.\\n- **Evaluation**: QLoRA fine-tuning on high-quality datasets leads to state-of-the-art results, even with smaller models. Evaluations using both human and GPT-4 metrics show that QLoRA can produce high-quality outputs.\\n\\n#### Full Fine-Tuning\\n- **Resource Intensive**: Requires significantly more memory and computational resources, making it less feasible for very large models on limited hardware.\\n- **Performance**: Generally considered the gold standard for achieving the highest possible performance, as it allows for the most extensive adjustments to the model's parameters.\\n- **Flexibility**: Full fine-tuning can adapt the entire model to the new task, potentially leading to better performance on specific tasks compared to more memory-efficient methods.\\n\\n#### Comparative Findings\\n- **Memory Efficiency**: QLoRA is far more memory-efficient, making it possible to fine-tune very large models on hardware that would be insufficient for full fine-tuning.\\n- **Performance**: QLoRA achieves near state-of-the-art performance, closely matching the results of full fine-tuning in many cases. However, for the absolute highest performance, full fine-tuning may still have a slight edge.\\n- **Practicality**: For many applications, especially where resources are limited, QLoRA offers a highly practical alternative to full fine-tuning without a significant drop in quality.\\n\\nIn summary, QLoRA provides a highly efficient and effective method for fine-tuning large language models, achieving performance levels close to full fine-tuning while drastically reducing memory requirements. This makes it a valuable approach for scenarios where computational resources are a limiting factor.\",\n",
       "   'reference': {'must_mention': ['comparable results',\n",
       "     'full fine-tuning',\n",
       "     'less memory',\n",
       "     'faster']}},\n",
       "  'f9d94693-4fc0-4389-b11f-daba71ff080d': {'input': {'question': 'What is the main innovation introduced by QLoRA?'},\n",
       "   'feedback': [EvaluationResult(key='must_mention', score=False, value=None, comment=None, correction=None, evaluator_info={}, feedback_config=None, source_run_id=UUID('752afa77-9dbb-46cc-ae04-eef44beb779f'), target_run_id=None)],\n",
       "   'execution_time': 3.610445,\n",
       "   'run_id': '567932af-531f-44e4-9298-ef70d58fd33c',\n",
       "   'output': 'The main innovation introduced by QLoRA (Quantized Low Rank Adapter) is its efficient finetuning approach that significantly reduces memory usage while preserving full 16-bit finetuning task performance. Here are the key innovations:\\n\\n1. **4-bit NormalFloat (NF4)**: A new data type that is information-theoretically optimal for normally distributed weights.\\n2. **Double Quantization**: This technique reduces the average memory footprint by quantizing the quantization constants.\\n3. **Paged Optimizers**: These manage memory spikes during the finetuning process.\\n\\nThese innovations allow QLoRA to finetune large language models (up to 65 billion parameters) on a single 48GB GPU, achieving state-of-the-art performance with significantly reduced computational resources.',\n",
       "   'reference': {'must_mention': ['4-bit',\n",
       "     'quantization',\n",
       "     'fine-tuning',\n",
       "     'large language models']}},\n",
       "  'aca34f31-b5c5-465e-b430-defa1a45448f': {'input': {'question': 'How does QLoRA achieve memory efficiency?'},\n",
       "   'feedback': [EvaluationResult(key='must_mention', score=False, value=None, comment=None, correction=None, evaluator_info={}, feedback_config=None, source_run_id=UUID('86b4e1ac-8380-4bf3-8a7d-99caf1d1f740'), target_run_id=None)],\n",
       "   'execution_time': 5.163157,\n",
       "   'run_id': '01fd4b17-8a17-4cb6-8322-0c3671b483cd',\n",
       "   'output': 'QLoRA (Quantized Low-Rank Adaptation) achieves memory efficiency through a combination of quantization and low-rank adaptation techniques. Here’s a detailed explanation of how it works:\\n\\n1. **Quantization**:\\n   - **Reduced Precision**: QLoRA reduces the precision of the model parameters from 32-bit floating-point (FP32) to lower precision formats such as 8-bit integers (INT8). This significantly reduces the memory footprint of the model.\\n   - **Efficient Storage**: By storing weights and activations in lower precision, the amount of memory required to store these values is reduced. This allows for larger models to be loaded into memory without exceeding hardware limitations.\\n\\n2. **Low-Rank Adaptation**:\\n   - **Parameter Efficiency**: Low-rank adaptation involves decomposing the weight matrices into products of smaller matrices. This reduces the number of parameters that need to be stored and updated during training.\\n   - **Memory Savings**: By using low-rank approximations, the memory required for storing and updating the model parameters is reduced. This is because the low-rank matrices have fewer parameters compared to the original full-rank matrices.\\n\\n3. **Combination of Techniques**:\\n   - **Synergistic Effect**: The combination of quantization and low-rank adaptation provides a synergistic effect, where the memory savings from each technique are compounded. This allows QLoRA to achieve significant memory efficiency without compromising the model’s performance.\\n\\n4. **Training Efficiency**:\\n   - **Reduced Computation**: With fewer parameters to update and lower precision arithmetic, the computational requirements for training are also reduced. This leads to faster training times and lower energy consumption.\\n\\nOverall, QLoRA leverages these techniques to enable the training and deployment of large-scale models on hardware with limited memory resources, making it a powerful approach for efficient deep learning.',\n",
       "   'reference': {'must_mention': ['4-bit NormalFloat',\n",
       "     'double quantization',\n",
       "     'paged optimizers']}},\n",
       "  '5dcda918-1dfc-47c3-aa32-6ab06a167fb6': {'input': {'question': 'What are the key components of the QLoRA system?'},\n",
       "   'feedback': [EvaluationResult(key='must_mention', score=False, value=None, comment=None, correction=None, evaluator_info={}, feedback_config=None, source_run_id=UUID('21045f0d-2dd0-48cf-99b3-3ddbb32767a6'), target_run_id=None)],\n",
       "   'execution_time': 7.955242,\n",
       "   'run_id': 'c768da55-4aee-4031-8ec9-f56f52131c47',\n",
       "   'output': 'The QLoRA (Quantized Low-Rank Adapters) system is a sophisticated approach to fine-tuning large language models (LLMs) with a focus on computational efficiency and resource optimization. Here are the key components of the QLoRA system based on recent research:\\n\\n1. **Quantized Low-Rank Adapters (QLoRA)**:\\n   - **Low-Rank Adapters (LoRA)**: These are used to fine-tune LLMs by adding low-rank matrices to the model\\'s layers, which helps in reducing the number of trainable parameters.\\n   - **Quantization**: This involves reducing the precision of the model parameters to lower bit-widths, which helps in saving memory and computational resources.\\n\\n2. **Fine-Tuning Techniques**:\\n   - **Parameter-Efficient Fine-Tuning**: QLoRA focuses on fine-tuning only a subset of the model parameters, which makes the process more efficient and less resource-intensive.\\n   - **Memory Optimization**: By using quantized parameters, the system can handle larger models or datasets within the same hardware constraints.\\n\\n3. **Integration with Large Language Models (LLMs)**:\\n   - QLoRA is used to fine-tune state-of-the-art LLMs like Llama 2, enhancing their performance for specific tasks such as speaker attribution in political debates or retrieval-augmented generation (RAG) systems.\\n\\n4. **User Feedback Incorporation**:\\n   - The system can incorporate user feedback directly into the training process, ensuring continuous adaptation and improvement of the model based on user expectations.\\n\\n5. **Quantized Influence Measure (QIM)**:\\n   - This is an innovative mechanism introduced to enhance the precision of result selection in AI systems, acting as an \"AI Judge\" to refine the system\\'s accuracy.\\n\\n6. **Economic and Legal Compliance**:\\n   - The QLoRA system is designed to be legally compliant and economically sustainable, addressing issues like copyright in AI training and providing a framework for monetization that benefits content creators, AI developers, and end-users.\\n\\n7. **Applications**:\\n   - The system has been applied in various domains, including automating speaker attribution in political texts, enhancing retrieval-augmented generation systems, and creating legally compliant marketplaces for generative AI.\\n\\nThese components collectively make QLoRA a powerful and efficient approach for fine-tuning large language models, optimizing their performance while minimizing resource usage.',\n",
       "   'reference': {'must_mention': ['4-bit quantization',\n",
       "     'Low-Rank Adapters',\n",
       "     'paged optimizers']}},\n",
       "  '18b4eba7-23f4-40b6-8c90-5aade9e5de6d': {'input': {'question': 'What performance improvements does QLoRA demonstrate?'},\n",
       "   'feedback': [EvaluationResult(key='must_mention', score=False, value=None, comment=None, correction=None, evaluator_info={}, feedback_config=None, source_run_id=UUID('f55d9f40-5aec-4677-b1ac-0c6a2849921f'), target_run_id=None)],\n",
       "   'execution_time': 5.266426,\n",
       "   'run_id': '8ee4ee84-b01f-4b20-a1cc-4c05974605ee',\n",
       "   'output': 'QLoRA (Quantized Low Rank Adapter) demonstrates several performance improvements, particularly in the context of fine-tuning large language models (LLMs). Here are the key improvements based on recent research:\\n\\n1. **Memory Efficiency**: QLoRA significantly reduces memory usage, enabling the fine-tuning of large models (e.g., 65B parameters) on hardware with limited memory (e.g., a single 48GB GPU).\\n\\n2. **Accuracy**: The IR-QLoRA variant improves the accuracy of quantized LLMs by retaining more information through techniques like Information Calibration Quantization and Information Elastic Connection. For instance, a 4-bit LLaMA-7B model achieved a 1.4% improvement on the MMLU benchmark compared to state-of-the-art methods.\\n\\n3. **Versatility**: IR-QLoRA is compatible with various quantization frameworks (e.g., NormalFloat and Integer quantization) and consistently brings general accuracy gains across different model families like LLaMA and LLaMA2.\\n\\n4. **Efficiency**: The performance gains from IR-QLoRA come with minimal additional time consumption (only 0.31% more), making it a highly efficient method.\\n\\n5. **Comparison with Other Methods**: While QLoRA is effective, it is noted that RAFT (Retrieval Augmented Fine-Tuning) can outperform QLoRA in certain use cases, such as travel chatbots, especially when followed by Reinforcement Learning from Human Feedback (RLHF).\\n\\nThese improvements make QLoRA a compelling choice for fine-tuning large language models, especially in resource-constrained environments.',\n",
       "   'reference': {'must_mention': ['65 billion parameters',\n",
       "     'single GPU',\n",
       "     'consumer hardware']}}},\n",
       " 'aggregate_metrics': None}"
      ]
     },
     "execution_count": 45,
     "metadata": {},
     "output_type": "execute_result"
    }
   ],
   "source": [
    "client.run_on_dataset(\n",
    "    dataset_name=dataset_name,\n",
    "    llm_or_chain_factory=agent_chain,\n",
    "    evaluation=eval_config,\n",
    "    verbose=True,\n",
    "    project_name=f\"RAG Pipeline - Evaluation - {uuid4().hex[0:8]}\",\n",
    "    project_metadata={\"version\": \"1.0.0\"},\n",
    ")"
   ]
  },
  {
   "cell_type": "markdown",
   "metadata": {
    "id": "jhTNe4kWrplB"
   },
   "source": [
    "## Part 2: LangGraph with Helpfulness:"
   ]
  },
  {
   "cell_type": "markdown",
   "metadata": {
    "id": "w1wKRddbIY_S"
   },
   "source": [
    "### Task 3: Adding Helpfulness Check and \"Loop\" Limits\n",
    "\n",
    "Now that we've done evaluation - let's see if we can add an extra step where we review the content we've generated to confirm if it fully answers the user's query!\n",
    "\n",
    "We're going to make a few key adjustments to account for this:\n",
    "\n",
    "1. We're going to add an artificial limit on how many \"loops\" the agent can go through - this will help us to avoid the potential situation where we never exit the loop.\n",
    "2. We'll add to our existing conditional edge to obtain the behaviour we desire."
   ]
  },
  {
   "cell_type": "markdown",
   "metadata": {
    "id": "npTYJ8ayR5B3"
   },
   "source": [
    "First, let's define our state again - we can check the length of the state object, so we don't need additional state for this."
   ]
  },
  {
   "cell_type": "code",
   "execution_count": 25,
   "metadata": {
    "id": "-LQ84YhyJG0w"
   },
   "outputs": [],
   "source": [
    "class AgentState(TypedDict):\n",
    "  messages: Annotated[list, add_messages]"
   ]
  },
  {
   "cell_type": "markdown",
   "metadata": {
    "id": "sD7EV0HqSQcb"
   },
   "source": [
    "Now we can set our graph up! This process will be almost entirely the same - with the inclusion of one additional node/conditional edge!"
   ]
  },
  {
   "cell_type": "markdown",
   "metadata": {
    "id": "oajBwLkFVi1N"
   },
   "source": [
    "####🏗️ Activity #5:\n",
    "\n",
    "Please write markdown for the following cells to explain what each is doing."
   ]
  },
  {
   "cell_type": "markdown",
   "metadata": {
    "id": "M6rN7feNVn9f"
   },
   "source": [
    "This cell initializes a new StateGraph called `graph_with_helpfulness_check` using the `AgentState` class. It then adds two nodes to the graph: \"agent\" (which calls the model) and \"action\" (which handles tool operations).\n"
   ]
  },
  {
   "cell_type": "code",
   "execution_count": 26,
   "metadata": {
    "id": "6r6XXA5FJbVf"
   },
   "outputs": [],
   "source": [
    "graph_with_helpfulness_check = StateGraph(AgentState)\n",
    "\n",
    "graph_with_helpfulness_check.add_node(\"agent\", call_model)\n",
    "graph_with_helpfulness_check.add_node(\"action\", tool_node)"
   ]
  },
  {
   "cell_type": "markdown",
   "metadata": {
    "id": "XZ22o2mWVrfp"
   },
   "source": [
    "This cell sets the entry point of the graph to the \"agent\" node, meaning this is where the graph execution will begin.\n"
   ]
  },
  {
   "cell_type": "code",
   "execution_count": 27,
   "metadata": {
    "id": "HNWHwWxuRiLY"
   },
   "outputs": [],
   "source": [
    "graph_with_helpfulness_check.set_entry_point(\"agent\")"
   ]
  },
  {
   "cell_type": "markdown",
   "metadata": {
    "id": "rsXeF6xlaXOZ"
   },
   "source": [
    "This cell defines a complex function `tool_call_or_helpful` that determines the next step in the graph. It checks for tool calls, implements a loop limit, and uses a helpfulness check to decide whether to continue, take an action, or end the process.\n"
   ]
  },
  {
   "cell_type": "code",
   "execution_count": 28,
   "metadata": {
    "id": "z_Sq3A9SaV1O"
   },
   "outputs": [],
   "source": [
    "from langchain_core.prompts import PromptTemplate\n",
    "from langchain_core.output_parsers import StrOutputParser\n",
    "\n",
    "def tool_call_or_helpful(state):\n",
    "  last_message = state[\"messages\"][-1]\n",
    "\n",
    "  if last_message.tool_calls:\n",
    "    return \"action\"\n",
    "\n",
    "  initial_query = state[\"messages\"][0]\n",
    "  final_response = state[\"messages\"][-1]\n",
    "\n",
    "  if len(state[\"messages\"]) > 10:\n",
    "    return \"END\"\n",
    "\n",
    "  prompt_template = \"\"\"\\\n",
    "  Given an initial query and a final response, determine if the final response is extremely helpful or not. Please indicate helpfulness with a 'Y' and unhelpfulness as an 'N'.\n",
    "\n",
    "  Initial Query:\n",
    "  {initial_query}\n",
    "\n",
    "  Final Response:\n",
    "  {final_response}\"\"\"\n",
    "\n",
    "  prompt_template = PromptTemplate.from_template(prompt_template)\n",
    "\n",
    "  helpfulness_check_model = ChatOpenAI(model=\"gpt-4\")\n",
    "\n",
    "  helpfulness_chain = prompt_template | helpfulness_check_model | StrOutputParser()\n",
    "\n",
    "  helpfulness_response = helpfulness_chain.invoke({\"initial_query\" : initial_query.content, \"final_response\" : final_response.content})\n",
    "\n",
    "  if \"Y\" in helpfulness_response:\n",
    "    return \"end\"\n",
    "  else:\n",
    "    return \"continue\""
   ]
  },
  {
   "cell_type": "markdown",
   "metadata": {
    "id": "Fz1u9Vf4SHxJ"
   },
   "source": [
    "####🏗️ Activity #4:\n",
    "\n",
    "Please write what is happening in our `tool_call_or_helpful` function!\n",
    "\n",
    "Answer: This is basically a quality control check and a cycle limit all rolled into one node.\n",
    "1) Check the last message in the state (the last response a node gave)\n",
    "2) If the last message is a tool call, return \"action\" to use a tool\n",
    "3) Otherwise, grabs the initial query and the last message\n",
    "4) It checks the messages array length to make sure the graph hasn't run past the cycle limit of 10. If it has, it returns 'END'\n",
    "5) If it hasn't hit that cycle limit, it makes a 'helpfulness check' (basically a QA check) to see if the response actually answers our initial query.\n",
    "    - Defines a prompt for an LLM (in this case a GPT-4 model) to determine if our response effectively answers the given initial query or not\n",
    "    - It makes that model, creates a chain, and invokes the chain with our QA prompt, initial query, and (current) final response.\n",
    "6) If the QA check returns a \"Y\", indicating the final response is a helpful response to the initial query, it returns \"END\", otherwise it indicates the graph to continue."
   ]
  },
  {
   "cell_type": "markdown",
   "metadata": {
    "id": "6BhnBW2YVsJO"
   },
   "source": [
    "This cell adds conditional edges to the graph based on the `tool_call_or_helpful` function. It defines how the graph should proceed depending on the function's output (\"continue\", \"action\", or \"end\").\n"
   ]
  },
  {
   "cell_type": "code",
   "execution_count": 29,
   "metadata": {
    "id": "aVTKnWMbP_8T"
   },
   "outputs": [],
   "source": [
    "graph_with_helpfulness_check.add_conditional_edges(\n",
    "    \"agent\",\n",
    "    tool_call_or_helpful,\n",
    "    {\n",
    "        \"continue\" : \"agent\",\n",
    "        \"action\" : \"action\",\n",
    "        \"end\" : END\n",
    "    }\n",
    ")"
   ]
  },
  {
   "cell_type": "markdown",
   "metadata": {
    "id": "ZGDLEWOIVtK0"
   },
   "source": [
    "This cell adds a simple edge from the \"action\" node back to the \"agent\" node, creating a loop in the graph.\n"
   ]
  },
  {
   "cell_type": "code",
   "execution_count": 30,
   "metadata": {
    "id": "cbDK2MbuREgU"
   },
   "outputs": [],
   "source": [
    "graph_with_helpfulness_check.add_edge(\"action\", \"agent\")"
   ]
  },
  {
   "cell_type": "markdown",
   "metadata": {
    "id": "rSI8AOaEVvT-"
   },
   "source": [
    "This cell compiles the graph, turning it into an executable form.\n"
   ]
  },
  {
   "cell_type": "code",
   "execution_count": 31,
   "metadata": {
    "id": "oQldl8ERQ8lf"
   },
   "outputs": [],
   "source": [
    "agent_with_helpfulness_check = graph_with_helpfulness_check.compile()"
   ]
  },
  {
   "cell_type": "markdown",
   "metadata": {
    "id": "F67FGCMRVwGz"
   },
   "source": [
    "This cell demonstrates the use of the compiled graph. It processes a complex query about machine learning topics, showing how the graph handles multiple cycles and tool usage."
   ]
  },
  {
   "cell_type": "code",
   "execution_count": 46,
   "metadata": {
    "colab": {
     "base_uri": "https://localhost:8080/"
    },
    "id": "B3oo8E-PRK1T",
    "outputId": "22470df4-9aa7-4751-95b6-d30ce71b17db"
   },
   "outputs": [
    {
     "name": "stdout",
     "output_type": "stream",
     "text": [
      "Receiving update from node: 'agent'\n",
      "[AIMessage(content='', additional_kwargs={'tool_calls': [{'id': 'call_Pw0ZPbIXa5tz0FTnVYmbqF5Z', 'function': {'arguments': '{\"query\": \"LoRA machine learning\"}', 'name': 'duckduckgo_search'}, 'type': 'function'}, {'id': 'call_JmcpupYxUL9U0XWOupXqixCM', 'function': {'arguments': '{\"query\": \"Tim Dettmers\"}', 'name': 'duckduckgo_search'}, 'type': 'function'}, {'id': 'call_bMCzeDSaPtNtdiUaZdgqNF0y', 'function': {'arguments': '{\"query\": \"Attention in machine learning\"}', 'name': 'duckduckgo_search'}, 'type': 'function'}], 'refusal': None}, response_metadata={'token_usage': {'completion_tokens': 76, 'prompt_tokens': 171, 'total_tokens': 247}, 'model_name': 'gpt-4o-2024-05-13', 'system_fingerprint': 'fp_157b3831f5', 'finish_reason': 'tool_calls', 'logprobs': None}, id='run-a95689be-eaf0-4de0-9a8c-e5cb35ada257-0', tool_calls=[{'name': 'duckduckgo_search', 'args': {'query': 'LoRA machine learning'}, 'id': 'call_Pw0ZPbIXa5tz0FTnVYmbqF5Z', 'type': 'tool_call'}, {'name': 'duckduckgo_search', 'args': {'query': 'Tim Dettmers'}, 'id': 'call_JmcpupYxUL9U0XWOupXqixCM', 'type': 'tool_call'}, {'name': 'duckduckgo_search', 'args': {'query': 'Attention in machine learning'}, 'id': 'call_bMCzeDSaPtNtdiUaZdgqNF0y', 'type': 'tool_call'}], usage_metadata={'input_tokens': 171, 'output_tokens': 76, 'total_tokens': 247})]\n",
      "\n",
      "\n",
      "\n",
      "Receiving update from node: 'action'\n",
      "[ToolMessage(content='Let\\'s jump on LoRA. Low-Rank Adaptation of LLMs (LoRA) So, in usual fine-tuning, we. Take a pretrained model. Do Transfer Learning over new training data to slightly adjust these pre-trained weights LoRA\\'s approach to decomposing ( Δ W ) into a product of lower rank matrices effectively balances the need to adapt large pre-trained models to new tasks while maintaining computational efficiency. The intrinsic rank concept is key to this balance, ensuring that the essence of the model\\'s learning capability is preserved with significantly ... Low-Rank Adaptation (LoRA) is a widely-used parameter-efficient finetuning method for large language models. LoRA saves memory by training only low rank perturbations to selected weight matrices. In this work, we compare the performance of LoRA and full finetuning on two target domains, programming and mathematics. We consider both the instruction finetuning ($\\\\\\\\approx$100K prompt-response ... \"Lora The Tuner\" By Daniel Warfield using MidJourney. All images by the author unless otherwise specified. Fine tuning is the process of tailoring a machine learning model to a specific application, which can be vital in achieving consistent and high quality performance. The paper \"LoRA: Low-Rank Adaptation of Large Language Models, ... Exploring the modern wave of machine learning: cutting edge fine tuning. Nov 7, 2023. 10. Matthew Gunton. in.', name='duckduckgo_search', tool_call_id='call_Pw0ZPbIXa5tz0FTnVYmbqF5Z'), ToolMessage(content='Allen School Ph.D. student Tim Dettmers accepted the grand prize for QLoRA, a novel approach to finetuning pretrained models that significantly reduces the amount of GPU memory required — from over 780GB to less than 48GB — to finetune a 65B parameter model. With QLoRA, the largest publicly available models can be finetuned on a single ... — Tim Dettmers is joining Ai2 as an AI researcher. Dettmers specializes in efficient deep learning at the intersection of machine learning, NLP, and computer systems with a focus on quantization ... Tim Dettmers. Video. Tech Moves: AI researcher Yejin Choi leaves Univ. of Washington and Allen Institute for AI. by Todd Bishop & Taylor Soper on August 2, 2024 August 2, 2024 at 11:59 am. Its purpose is to make cutting-edge research by Tim Dettmers, a leading academic expert on quantization and the use of deep learning hardware accelerators, accessible to the general public. QLoRA: One of the core contributions of bitsandbytes towards the democratization of AI. If you have a curiosity about how fancy graphics cards actually work, and why they are so well-suited to AI-type applications, then take a few minutes to read [Tim Dettmers] explain why this is so.…', name='duckduckgo_search', tool_call_id='call_JmcpupYxUL9U0XWOupXqixCM'), ToolMessage(content='Learn how attention mechanisms in deep learning enable models to focus on relevant information and improve performance in tasks such as machine translation, image captioning, and speech recognition. Understand the steps and components of attention mechanism architecture and see examples of its applications. Attention Mechanisms address critical challenges in deep learning, including handling long sequences effectively, ensuring contextual understanding, and achieving improved overall model performance. Attention mechanism is a fundamental invention in artificial intelligence and machine learning, redefining the capabilities of deep learning models. This mechanism, inspired by the human mental process of selective focus, has emerged as a pillar in a variety of applications, accelerating developments in natural language processing, computer vision, and beyond. In the Transformer series, we go over the ingredients that have made Transformers a universal recipe for machine learning. First up, we take a visual dive to understand the attention mechanism: Why transformers and attention took over. Developing a visual intuition behind Attention. Attention mechanisms represent advancements in machine learning and computer vision, enabling models to prioritize relevant information for better performance. As research progresses, attention mechanisms will further enhance the capabilities and interpretability of deep learning models.', name='duckduckgo_search', tool_call_id='call_bMCzeDSaPtNtdiUaZdgqNF0y')]\n",
      "\n",
      "\n",
      "\n",
      "Receiving update from node: 'agent'\n",
      "[AIMessage(content=\"### LoRA in Machine Learning\\nLoRA, or Low-Rank Adaptation, is a parameter-efficient fine-tuning method for large language models. Traditional fine-tuning involves adjusting the pre-trained weights of a model to adapt it to new tasks, which can be computationally expensive. LoRA addresses this by decomposing the weight updates into a product of lower-rank matrices, significantly reducing the memory and computational requirements. This approach maintains the model's learning capability while being more efficient.\\n\\n### Tim Dettmers\\nTim Dettmers is a researcher specializing in efficient deep learning, particularly at the intersection of machine learning, natural language processing (NLP), and computer systems. He is known for his work on quantization and the use of deep learning hardware accelerators. One of his notable contributions is QLoRA, a method that significantly reduces the GPU memory required to fine-tune large language models, making it possible to fine-tune models with billions of parameters on a single GPU.\\n\\n### Attention in Machine Learning\\nAttention mechanisms are a fundamental component in modern deep learning models, particularly in tasks like machine translation, image captioning, and speech recognition. Inspired by the human cognitive process of selective focus, attention mechanisms allow models to prioritize relevant information in the input data. This capability is crucial for handling long sequences and ensuring contextual understanding. Attention mechanisms have been pivotal in the development of Transformer models, which have become a universal architecture in machine learning due to their ability to handle complex tasks effectively.\", additional_kwargs={'refusal': None}, response_metadata={'token_usage': {'completion_tokens': 299, 'prompt_tokens': 1070, 'total_tokens': 1369}, 'model_name': 'gpt-4o-2024-05-13', 'system_fingerprint': 'fp_157b3831f5', 'finish_reason': 'stop', 'logprobs': None}, id='run-9e081314-5382-4529-b852-4ae5fd3c9aec-0', usage_metadata={'input_tokens': 1070, 'output_tokens': 299, 'total_tokens': 1369})]\n",
      "\n",
      "\n",
      "\n"
     ]
    }
   ],
   "source": [
    "inputs = {\"messages\" : [HumanMessage(content=\"Related to machine learning, what is LoRA? Also, who is Tim Dettmers? Also, what is Attention?\")]}\n",
    "\n",
    "async for chunk in agent_with_helpfulness_check.astream(inputs, stream_mode=\"updates\"):\n",
    "    for node, values in chunk.items():\n",
    "        print(f\"Receiving update from node: '{node}'\")\n",
    "        print(values[\"messages\"])\n",
    "        print(\"\\n\\n\")"
   ]
  },
  {
   "cell_type": "markdown",
   "metadata": {
    "id": "yVmZPs6lnpsM"
   },
   "source": [
    "### Task 4: LangGraph for the \"Patterns\" of GenAI\n",
    "\n",
    "Let's ask our system about the 4 patterns of Generative AI:\n",
    "\n",
    "1. Prompt Engineering\n",
    "2. RAG\n",
    "3. Fine-tuning\n",
    "4. Agents"
   ]
  },
  {
   "cell_type": "code",
   "execution_count": 33,
   "metadata": {
    "id": "ZoLl7GlXoae-"
   },
   "outputs": [],
   "source": [
    "patterns = [\"prompt engineering\", \"RAG\", \"fine-tuning\", \"LLM-based agents\"]"
   ]
  },
  {
   "cell_type": "code",
   "execution_count": 47,
   "metadata": {
    "colab": {
     "base_uri": "https://localhost:8080/"
    },
    "id": "Zkh0YJuCp3Zl",
    "outputId": "0593c6f5-0a1d-41f6-960b-f32d101b3ade"
   },
   "outputs": [
    {
     "name": "stdout",
     "output_type": "stream",
     "text": [
      "Prompt engineering is a concept primarily associated with the field of artificial intelligence, particularly in the context of natural language processing (NLP) and large language models (LLMs) like GPT-3. It involves the design and optimization of prompts (input queries or instructions) to elicit the most accurate, relevant, and useful responses from AI models. The goal is to frame questions or tasks in a way that maximizes the performance of the AI in generating desired outputs.\n",
      "\n",
      "### Key Aspects of Prompt Engineering:\n",
      "1. **Prompt Design**: Crafting the input text to guide the AI model towards producing the desired response.\n",
      "2. **Optimization**: Iteratively refining prompts based on the responses received to improve accuracy and relevance.\n",
      "3. **Contextualization**: Providing sufficient context within the prompt to help the AI understand the task or question.\n",
      "4. **Evaluation**: Assessing the quality of the AI's responses to determine the effectiveness of the prompt.\n",
      "\n",
      "### Emergence of Prompt Engineering:\n",
      "Prompt engineering became more prominent with the advent of advanced language models like OpenAI's GPT-3, which was released in June 2020. The ability of these models to generate human-like text based on prompts led to a growing interest in how to effectively communicate with them to achieve specific outcomes. The term \"prompt engineering\" itself started gaining traction around this time as researchers and practitioners began to explore and document best practices for interacting with these powerful AI systems.\n",
      "\n",
      "Would you like more detailed information or recent developments in prompt engineering?\n",
      "\n",
      "\n",
      "\n",
      "Retrieval-Augmented Generation (RAG) was introduced by Facebook AI Research (FAIR) in 2020. It represents a significant advancement in the field of natural language processing by combining retrieval-based methods with generative models to enhance the accuracy and relevance of generated text.\n",
      "\n",
      "\n",
      "\n",
      "Fine-tuning is a process in machine learning where a pre-trained model is further trained on a new dataset to adapt it to a specific task. This approach leverages the knowledge the model has already acquired during its initial training on a large, general dataset, and refines it to perform well on a more specialized task. Fine-tuning is particularly useful in natural language processing (NLP) and computer vision, where large pre-trained models like BERT, GPT, and ResNet can be adapted to specific applications with relatively small amounts of additional data.\n",
      "\n",
      "### Key Steps in Fine-Tuning:\n",
      "1. **Pre-training**: A model is trained on a large, general dataset to learn broad features.\n",
      "2. **Fine-tuning**: The pre-trained model is further trained on a smaller, task-specific dataset to adapt it to a particular application.\n",
      "\n",
      "### Benefits of Fine-Tuning:\n",
      "- **Efficiency**: Reduces the amount of data and computational resources needed compared to training a model from scratch.\n",
      "- **Performance**: Often leads to better performance on specific tasks due to the model's ability to leverage pre-existing knowledge.\n",
      "\n",
      "### Historical Context:\n",
      "Fine-tuning became particularly prominent with the advent of large-scale pre-trained models in the late 2010s. Key milestones include:\n",
      "- **2018**: The release of BERT (Bidirectional Encoder Representations from Transformers) by Google, which demonstrated the effectiveness of fine-tuning for various NLP tasks.\n",
      "- **2019**: The introduction of GPT-2 by OpenAI, which further showcased the power of fine-tuning in generating coherent and contextually relevant text.\n",
      "\n",
      "Would you like more detailed information on the history or specific models related to fine-tuning?\n",
      "\n",
      "\n",
      "\n",
      "LLM-based agents, or Large Language Model-based agents, are a novel technology that leverages the capabilities of large language models to perform various tasks autonomously. These agents interact with their environment through perception, sensing environmental data, and taking actions based on the information, which may involve using tools.\n",
      "\n",
      "### Key Points:\n",
      "1. **Definition**: LLM-based agents use large language models to understand and generate human-like text, enabling them to perform tasks such as code generation, vulnerability detection, and more.\n",
      "2. **Applications**: They are used in various domains, including software engineering, where they have shown remarkable success.\n",
      "3. **Functionality**: These agents can follow speech-and-language instructions, making human-computer interaction more natural and user-friendly.\n",
      "4. **Multi-Agent Systems**: LLM-based multi-agent systems consist of multiple agents working together to achieve a common goal, with each agent specializing in a particular task.\n",
      "\n",
      "### History:\n",
      "The concept of LLM-based agents has gained significant attention in recent years, particularly with the advent of advanced large language models like GPT-3 and beyond. The technology has been a focal point of research in both academia and industry, leading to a surge in studies exploring their potential and applications.\n",
      "\n",
      "In summary, LLM-based agents represent a promising advancement in artificial intelligence, with the potential to revolutionize various fields through their autonomous capabilities and natural interaction methods.\n",
      "\n",
      "\n",
      "\n"
     ]
    }
   ],
   "source": [
    "for pattern in patterns:\n",
    "  what_is_string = f\"What is {pattern} and when did it break onto the scene??\"\n",
    "  inputs = {\"messages\" : [HumanMessage(content=what_is_string)]}\n",
    "  messages = agent_with_helpfulness_check.invoke(inputs)\n",
    "  print(messages[\"messages\"][-1].content)\n",
    "  print(\"\\n\\n\")"
   ]
  }
 ],
 "metadata": {
  "colab": {
   "provenance": []
  },
  "kernelspec": {
   "display_name": "Python 3 (ipykernel)",
   "language": "python",
   "name": "python3"
  },
  "language_info": {
   "codemirror_mode": {
    "name": "ipython",
    "version": 3
   },
   "file_extension": ".py",
   "mimetype": "text/x-python",
   "name": "python",
   "nbconvert_exporter": "python",
   "pygments_lexer": "ipython3",
   "version": "3.11.4"
  }
 },
 "nbformat": 4,
 "nbformat_minor": 1
}
